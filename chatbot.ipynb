{
  "nbformat": 4,
  "nbformat_minor": 0,
  "metadata": {
    "colab": {
      "provenance": []
    },
    "kernelspec": {
      "name": "python3",
      "display_name": "Python 3"
    },
    "language_info": {
      "name": "python"
    }
  },
  "cells": [
    {
      "cell_type": "code",
      "execution_count": 25,
      "metadata": {
        "colab": {
          "base_uri": "https://localhost:8080/"
        },
        "id": "qk4Ta1f55qo2",
        "outputId": "079f90be-8a74-41d2-c8e1-8a2bd4546e71"
      },
      "outputs": [
        {
          "output_type": "stream",
          "name": "stdout",
          "text": [
            "Drive already mounted at /content/drive; to attempt to forcibly remount, call drive.mount(\"/content/drive\", force_remount=True).\n"
          ]
        }
      ],
      "source": [
        "from google.colab import drive\n",
        "drive.mount('/content/drive')\n",
        "data_root = 'content/drive/My Drive/ChatBot'\n"
      ]
    },
    {
      "cell_type": "code",
      "source": [
        "import json\n",
        "import string\n",
        "import random\n",
        "import nltk\n",
        "import numpy as np\n",
        "from nltk.stem import WordNetLemmatizer\n",
        "import tensorflow as tf\n",
        "from tensorflow.keras import Sequential\n",
        "from tensorflow.keras.layers import Dense,Dropout\n",
        "nltk.download(\"punkt\")\n",
        "nltk.download(\"wordnet\")\n"
      ],
      "metadata": {
        "colab": {
          "base_uri": "https://localhost:8080/"
        },
        "id": "vp5XzCrM5-qz",
        "outputId": "785aca3e-2963-455c-9481-c74fbda07412"
      },
      "execution_count": 20,
      "outputs": [
        {
          "output_type": "stream",
          "name": "stderr",
          "text": [
            "[nltk_data] Downloading package punkt to /root/nltk_data...\n",
            "[nltk_data]   Unzipping tokenizers/punkt.zip.\n",
            "[nltk_data] Downloading package wordnet to /root/nltk_data...\n"
          ]
        },
        {
          "output_type": "execute_result",
          "data": {
            "text/plain": [
              "True"
            ]
          },
          "metadata": {},
          "execution_count": 20
        }
      ]
    },
    {
      "cell_type": "code",
      "source": [
        "with open('intents.json', 'r') as file:\n",
        "    # Step 2: Read the JSON data\n",
        "    data = json.load(file)"
      ],
      "metadata": {
        "id": "-98swMpN5r5P"
      },
      "execution_count": 29,
      "outputs": []
    },
    {
      "cell_type": "code",
      "source": [
        "data"
      ],
      "metadata": {
        "colab": {
          "base_uri": "https://localhost:8080/"
        },
        "id": "pakm6AgD511j",
        "outputId": "fef542cb-64b3-430f-8b59-cf0dfbad9d0b"
      },
      "execution_count": 31,
      "outputs": [
        {
          "output_type": "execute_result",
          "data": {
            "text/plain": [
              "{'intents': [{'tag': 'hello',\n",
              "   'patterns': ['Hello', 'Hi there', 'Good morning', \"What's up\"],\n",
              "   'responses': ['Hey!', 'Hello', 'Hi!', 'Good morning!'],\n",
              "   'context': ''},\n",
              "  {'tag': 'noanswer',\n",
              "   'patterns': [],\n",
              "   'responses': [\"Sorry, can't understand you\",\n",
              "    'Please give me more info',\n",
              "    'Not sure I understand'],\n",
              "   'context': ['']},\n",
              "  {'tag': 'job',\n",
              "   'patterns': ['What is your job', 'What is your work'],\n",
              "   'responses': ['My job is to make you feel like everything is okay.',\n",
              "    'I work to serve you as well as possible'],\n",
              "   'context': ''},\n",
              "  {'tag': 'age',\n",
              "   'patterns': ['What is your age', 'How old are you', 'When were you born'],\n",
              "   'responses': ['I was born in 2021'],\n",
              "   'context': ''},\n",
              "  {'tag': 'feeling',\n",
              "   'patterns': ['How are you today', 'How are you'],\n",
              "   'responses': ['I am feeling good, you?',\n",
              "    'Very good and you?',\n",
              "    \"Actually, I'm okay and you?\"],\n",
              "   'context': ''},\n",
              "  {'tag': 'good',\n",
              "   'patterns': ['I am good too',\n",
              "    'I feel fine',\n",
              "    'Good !',\n",
              "    'Fine',\n",
              "    'I am good',\n",
              "    'I am great',\n",
              "    'great'],\n",
              "   'responses': ['That is perfect!', \"So, everything's okay!\"],\n",
              "   'context': 'feeling'},\n",
              "  {'tag': 'bad',\n",
              "   'patterns': ['I am feeling bad', 'No I am sad', 'No'],\n",
              "   'responses': ['I hope you will feel better !'],\n",
              "   'context': 'feeling'},\n",
              "  {'tag': 'actions',\n",
              "   'patterns': ['What can you do', 'What can I ask you', 'Can you help me'],\n",
              "   'responses': ['I can do a lot of things but here are some of my skills, you can ask me: the capital of a country, its currency and its area. A random number. To calculate a math operation.'],\n",
              "   'context': ''},\n",
              "  {'tag': 'women',\n",
              "   'patterns': ['Are you a girl', 'You are a women'],\n",
              "   'responses': ['Sure, I am a women'],\n",
              "   'context': ''},\n",
              "  {'tag': 'men',\n",
              "   'patterns': ['Are you a men', 'Are you a boy'],\n",
              "   'responses': ['No, I am a women'],\n",
              "   'context': ''},\n",
              "  {'tag': 'thanks',\n",
              "   'patterns': ['Thank you', 'Thank you very much', 'thanks'],\n",
              "   'responses': ['I only do my job️', 'No problem!'],\n",
              "   'context': ''},\n",
              "  {'tag': 'goodbye',\n",
              "   'patterns': ['Goodbye', 'Good afternoon', 'Bye'],\n",
              "   'responses': ['Goodbye!', 'See you soon!'],\n",
              "   'context': ''},\n",
              "  {'tag': 'city',\n",
              "   'patterns': ['Where do you live'],\n",
              "   'responses': ['I live in a server located in the US!'],\n",
              "   'context': ''},\n",
              "  {'tag': 'action',\n",
              "   'patterns': ['What are you doing'],\n",
              "   'responses': [\"Actually, I'm chatting with somebody\"],\n",
              "   'context': ''},\n",
              "  {'tag': 'wait',\n",
              "   'patterns': ['Can you wait 2 minutes', 'Please wait', 'Wait 2 secs please'],\n",
              "   'responses': ['Sure! I wait.'],\n",
              "   'context': ''},\n",
              "  {'tag': 'still there',\n",
              "   'patterns': ['Are you still there?', 'Are you here?'],\n",
              "   'responses': ['Of course! Always at your service.'],\n",
              "   'context': ''}]}"
            ]
          },
          "metadata": {},
          "execution_count": 31
        }
      ]
    },
    {
      "cell_type": "code",
      "source": [
        "!python -m chatterbot --version"
      ],
      "metadata": {
        "colab": {
          "base_uri": "https://localhost:8080/"
        },
        "id": "Iiq2sahs7Zkr",
        "outputId": "d402e23f-f742-4827-fa15-824c7258ce4e"
      },
      "execution_count": 5,
      "outputs": [
        {
          "output_type": "stream",
          "name": "stdout",
          "text": [
            "/usr/bin/python3: No module named chatterbot\n"
          ]
        }
      ]
    },
    {
      "cell_type": "code",
      "source": [
        "!git clone https://github.com/gunthercox/ChatterBot.git"
      ],
      "metadata": {
        "colab": {
          "base_uri": "https://localhost:8080/"
        },
        "id": "FX0JV1bl7cmH",
        "outputId": "45755e30-b027-4c78-d272-01650529109d"
      },
      "execution_count": 7,
      "outputs": [
        {
          "output_type": "stream",
          "name": "stdout",
          "text": [
            "Cloning into 'ChatterBot'...\n",
            "remote: Enumerating objects: 12870, done.\u001b[K\n",
            "remote: Counting objects: 100% (33/33), done.\u001b[K\n",
            "remote: Compressing objects: 100% (19/19), done.\u001b[K\n",
            "remote: Total 12870 (delta 16), reused 19 (delta 8), pack-reused 12837\u001b[K\n",
            "Receiving objects: 100% (12870/12870), 4.25 MiB | 9.36 MiB/s, done.\n",
            "Resolving deltas: 100% (8954/8954), done.\n"
          ]
        }
      ]
    },
    {
      "cell_type": "code",
      "source": [
        "#creating data_x and data_y\n",
        "words = []\n",
        "classes = []\n",
        "data_X = []\n",
        "data_y = []\n",
        "\n",
        "\n",
        "for intent in data['intents']:\n",
        "  for pattern in intent['patterns']:\n",
        "    tokens = nltk.word_tokenize(pattern)\n",
        "    words.extend(tokens)\n",
        "    data_X.append(pattern)\n",
        "    data_y.append(intent['tag'])\n",
        "  if intent['tag'] not in classes:\n",
        "    classes.append(intent['tag'])\n",
        "\n",
        "lemmatizer = WordNetLemmatizer()\n",
        "words = [lemmatizer.lemmatize(word.lower()) for word in words if word not in string.punctuation]\n",
        "words = sorted(set(words))\n",
        "classes = sorted(set(classes))"
      ],
      "metadata": {
        "id": "nFeFvEpO7fJr"
      },
      "execution_count": 32,
      "outputs": []
    },
    {
      "cell_type": "code",
      "source": [
        "training = []\n",
        "out_empty = [0]*len(classes)\n",
        "\n",
        "for idx,doc in enumerate(data_X):\n",
        "  bow = []\n",
        "  text = lemmatizer.lemmatize(doc.lower())\n",
        "  for word in words :\n",
        "    bow.append(1) if word in text else bow.append(0)\n",
        "  output_row = list(out_empty)\n",
        "  output_row[classes.index(data_y[idx])] = 1\n",
        "  training.append([bow,output_row])\n",
        "random.shuffle(training)\n",
        "training = np.array(training , dtype = object)\n",
        "train_X = np.array(list(training[:,0]))\n",
        "train_y = np.array(list(training[:,1]))"
      ],
      "metadata": {
        "id": "Dq9dofUg7oSJ"
      },
      "execution_count": 34,
      "outputs": []
    },
    {
      "cell_type": "markdown",
      "source": [
        "## Building the Neural network model"
      ],
      "metadata": {
        "id": "tf-sLbC2CVw1"
      }
    },
    {
      "cell_type": "code",
      "source": [
        "model = Sequential()\n",
        "model.add(Dense(128,input_shape=(len(train_X[0]),),activation  = 'relu'))\n",
        "model.add(Dropout(0,5))\n",
        "model.add(Dense(64,activation  = 'relu'))\n",
        "model.add(Dropout(0,5))\n",
        "model.add(Dense((len(train_y[0])),activation  = 'softmax'))\n",
        "adam = tf.keras.optimizers.legacy.Adam(learning_rate=0.01, decay=1e-6)\n",
        "model.compile(loss = 'categorical_crossentropy',\n",
        "              optimizer = adam,\n",
        "              metrics = ['accuracy']\n",
        "              )\n",
        "print(model.summary())\n",
        "model.fit(x=train_X,y=train_y,epochs = 150,verbose = 1)\n",
        "\n",
        "\n",
        "\n"
      ],
      "metadata": {
        "colab": {
          "base_uri": "https://localhost:8080/"
        },
        "id": "YWhT1EI97wZ0",
        "outputId": "557350e1-0858-4e63-fcd6-57d29cb371ea"
      },
      "execution_count": 38,
      "outputs": [
        {
          "output_type": "stream",
          "name": "stdout",
          "text": [
            "Model: \"sequential_2\"\n",
            "_________________________________________________________________\n",
            " Layer (type)                Output Shape              Param #   \n",
            "=================================================================\n",
            " dense_6 (Dense)             (None, 128)               7552      \n",
            "                                                                 \n",
            " dropout_4 (Dropout)         (None, 128)               0         \n",
            "                                                                 \n",
            " dense_7 (Dense)             (None, 64)                8256      \n",
            "                                                                 \n",
            " dropout_5 (Dropout)         (None, 64)                0         \n",
            "                                                                 \n",
            " dense_8 (Dense)             (None, 16)                1040      \n",
            "                                                                 \n",
            "=================================================================\n",
            "Total params: 16848 (65.81 KB)\n",
            "Trainable params: 16848 (65.81 KB)\n",
            "Non-trainable params: 0 (0.00 Byte)\n",
            "_________________________________________________________________\n",
            "None\n",
            "Epoch 1/150\n",
            "2/2 [==============================] - 1s 28ms/step - loss: 2.7458 - accuracy: 0.0976\n",
            "Epoch 2/150\n",
            "2/2 [==============================] - 0s 12ms/step - loss: 2.3552 - accuracy: 0.5610\n",
            "Epoch 3/150\n",
            "2/2 [==============================] - 0s 12ms/step - loss: 2.0339 - accuracy: 0.5122\n",
            "Epoch 4/150\n",
            "2/2 [==============================] - 0s 12ms/step - loss: 1.6656 - accuracy: 0.6098\n",
            "Epoch 5/150\n",
            "2/2 [==============================] - 0s 10ms/step - loss: 1.2828 - accuracy: 0.7561\n",
            "Epoch 6/150\n",
            "2/2 [==============================] - 0s 12ms/step - loss: 0.9357 - accuracy: 0.8780\n",
            "Epoch 7/150\n",
            "2/2 [==============================] - 0s 11ms/step - loss: 0.6336 - accuracy: 0.9268\n",
            "Epoch 8/150\n",
            "2/2 [==============================] - 0s 11ms/step - loss: 0.4352 - accuracy: 0.9268\n",
            "Epoch 9/150\n",
            "2/2 [==============================] - 0s 14ms/step - loss: 0.2824 - accuracy: 0.9756\n",
            "Epoch 10/150\n",
            "2/2 [==============================] - 0s 16ms/step - loss: 0.1847 - accuracy: 0.9756\n",
            "Epoch 11/150\n",
            "2/2 [==============================] - 0s 14ms/step - loss: 0.1173 - accuracy: 0.9756\n",
            "Epoch 12/150\n",
            "2/2 [==============================] - 0s 11ms/step - loss: 0.0961 - accuracy: 0.9756\n",
            "Epoch 13/150\n",
            "2/2 [==============================] - 0s 11ms/step - loss: 0.0722 - accuracy: 0.9756\n",
            "Epoch 14/150\n",
            "2/2 [==============================] - 0s 10ms/step - loss: 0.0821 - accuracy: 0.9756\n",
            "Epoch 15/150\n",
            "2/2 [==============================] - 0s 10ms/step - loss: 0.0617 - accuracy: 0.9756\n",
            "Epoch 16/150\n",
            "2/2 [==============================] - 0s 13ms/step - loss: 0.0459 - accuracy: 0.9756\n",
            "Epoch 17/150\n",
            "2/2 [==============================] - 0s 10ms/step - loss: 0.0590 - accuracy: 0.9756\n",
            "Epoch 18/150\n",
            "2/2 [==============================] - 0s 11ms/step - loss: 0.0434 - accuracy: 0.9756\n",
            "Epoch 19/150\n",
            "2/2 [==============================] - 0s 10ms/step - loss: 0.0429 - accuracy: 0.9756\n",
            "Epoch 20/150\n",
            "2/2 [==============================] - 0s 12ms/step - loss: 0.0652 - accuracy: 0.9756\n",
            "Epoch 21/150\n",
            "2/2 [==============================] - 0s 9ms/step - loss: 0.0469 - accuracy: 0.9756\n",
            "Epoch 22/150\n",
            "2/2 [==============================] - 0s 10ms/step - loss: 0.0595 - accuracy: 0.9756\n",
            "Epoch 23/150\n",
            "2/2 [==============================] - 0s 11ms/step - loss: 0.0485 - accuracy: 0.9756\n",
            "Epoch 24/150\n",
            "2/2 [==============================] - 0s 12ms/step - loss: 0.0335 - accuracy: 0.9756\n",
            "Epoch 25/150\n",
            "2/2 [==============================] - 0s 10ms/step - loss: 0.0354 - accuracy: 0.9756\n",
            "Epoch 26/150\n",
            "2/2 [==============================] - 0s 9ms/step - loss: 0.0581 - accuracy: 0.9756\n",
            "Epoch 27/150\n",
            "2/2 [==============================] - 0s 9ms/step - loss: 0.0793 - accuracy: 0.9756\n",
            "Epoch 28/150\n",
            "2/2 [==============================] - 0s 9ms/step - loss: 0.0616 - accuracy: 0.9756\n",
            "Epoch 29/150\n",
            "2/2 [==============================] - 0s 12ms/step - loss: 0.0474 - accuracy: 0.9512\n",
            "Epoch 30/150\n",
            "2/2 [==============================] - 0s 11ms/step - loss: 0.0378 - accuracy: 0.9756\n",
            "Epoch 31/150\n",
            "2/2 [==============================] - 0s 10ms/step - loss: 0.0394 - accuracy: 0.9756\n",
            "Epoch 32/150\n",
            "2/2 [==============================] - 0s 9ms/step - loss: 0.0385 - accuracy: 0.9756\n",
            "Epoch 33/150\n",
            "2/2 [==============================] - 0s 10ms/step - loss: 0.0412 - accuracy: 0.9512\n",
            "Epoch 34/150\n",
            "2/2 [==============================] - 0s 9ms/step - loss: 0.0376 - accuracy: 0.9512\n",
            "Epoch 35/150\n",
            "2/2 [==============================] - 0s 9ms/step - loss: 0.0355 - accuracy: 0.9756\n",
            "Epoch 36/150\n",
            "2/2 [==============================] - 0s 9ms/step - loss: 0.0375 - accuracy: 0.9756\n",
            "Epoch 37/150\n",
            "2/2 [==============================] - 0s 8ms/step - loss: 0.0400 - accuracy: 0.9756\n",
            "Epoch 38/150\n",
            "2/2 [==============================] - 0s 9ms/step - loss: 0.0412 - accuracy: 0.9756\n",
            "Epoch 39/150\n",
            "2/2 [==============================] - 0s 11ms/step - loss: 0.0428 - accuracy: 0.9756\n",
            "Epoch 40/150\n",
            "2/2 [==============================] - 0s 12ms/step - loss: 0.0428 - accuracy: 0.9756\n",
            "Epoch 41/150\n",
            "2/2 [==============================] - 0s 13ms/step - loss: 0.0394 - accuracy: 0.9756\n",
            "Epoch 42/150\n",
            "2/2 [==============================] - 0s 15ms/step - loss: 0.0403 - accuracy: 0.9756\n",
            "Epoch 43/150\n",
            "2/2 [==============================] - 0s 8ms/step - loss: 0.0410 - accuracy: 0.9756\n",
            "Epoch 44/150\n",
            "2/2 [==============================] - 0s 12ms/step - loss: 0.0363 - accuracy: 0.9756\n",
            "Epoch 45/150\n",
            "2/2 [==============================] - 0s 12ms/step - loss: 0.0334 - accuracy: 0.9756\n",
            "Epoch 46/150\n",
            "2/2 [==============================] - 0s 24ms/step - loss: 0.0499 - accuracy: 0.9756\n",
            "Epoch 47/150\n",
            "2/2 [==============================] - 0s 14ms/step - loss: 0.0465 - accuracy: 0.9756\n",
            "Epoch 48/150\n",
            "2/2 [==============================] - 0s 13ms/step - loss: 0.0386 - accuracy: 0.9756\n",
            "Epoch 49/150\n",
            "2/2 [==============================] - 0s 9ms/step - loss: 0.0352 - accuracy: 0.9756\n",
            "Epoch 50/150\n",
            "2/2 [==============================] - 0s 12ms/step - loss: 0.0312 - accuracy: 0.9756\n",
            "Epoch 51/150\n",
            "2/2 [==============================] - 0s 12ms/step - loss: 0.0408 - accuracy: 0.9756\n",
            "Epoch 52/150\n",
            "2/2 [==============================] - 0s 9ms/step - loss: 0.0529 - accuracy: 0.9756\n",
            "Epoch 53/150\n",
            "2/2 [==============================] - 0s 10ms/step - loss: 0.0599 - accuracy: 0.9756\n",
            "Epoch 54/150\n",
            "2/2 [==============================] - 0s 10ms/step - loss: 0.0614 - accuracy: 0.9756\n",
            "Epoch 55/150\n",
            "2/2 [==============================] - 0s 8ms/step - loss: 0.0539 - accuracy: 0.9756\n",
            "Epoch 56/150\n",
            "2/2 [==============================] - 0s 9ms/step - loss: 0.0373 - accuracy: 0.9756\n",
            "Epoch 57/150\n",
            "2/2 [==============================] - 0s 16ms/step - loss: 0.0326 - accuracy: 0.9756\n",
            "Epoch 58/150\n",
            "2/2 [==============================] - 0s 17ms/step - loss: 0.0392 - accuracy: 0.9756\n",
            "Epoch 59/150\n",
            "2/2 [==============================] - 0s 9ms/step - loss: 0.0475 - accuracy: 0.9756\n",
            "Epoch 60/150\n",
            "2/2 [==============================] - 0s 9ms/step - loss: 0.0521 - accuracy: 0.9756\n",
            "Epoch 61/150\n",
            "2/2 [==============================] - 0s 10ms/step - loss: 0.0514 - accuracy: 0.9756\n",
            "Epoch 62/150\n",
            "2/2 [==============================] - 0s 8ms/step - loss: 0.0485 - accuracy: 0.9756\n",
            "Epoch 63/150\n",
            "2/2 [==============================] - 0s 10ms/step - loss: 0.0426 - accuracy: 0.9756\n",
            "Epoch 64/150\n",
            "2/2 [==============================] - 0s 8ms/step - loss: 0.0391 - accuracy: 0.9756\n",
            "Epoch 65/150\n",
            "2/2 [==============================] - 0s 11ms/step - loss: 0.0363 - accuracy: 0.9756\n",
            "Epoch 66/150\n",
            "2/2 [==============================] - 0s 8ms/step - loss: 0.0350 - accuracy: 0.9756\n",
            "Epoch 67/150\n",
            "2/2 [==============================] - 0s 8ms/step - loss: 0.0351 - accuracy: 0.9756\n",
            "Epoch 68/150\n",
            "2/2 [==============================] - 0s 14ms/step - loss: 0.0359 - accuracy: 0.9756\n",
            "Epoch 69/150\n",
            "2/2 [==============================] - 0s 13ms/step - loss: 0.0370 - accuracy: 0.9756\n",
            "Epoch 70/150\n",
            "2/2 [==============================] - 0s 14ms/step - loss: 0.0392 - accuracy: 0.9756\n",
            "Epoch 71/150\n",
            "2/2 [==============================] - 0s 9ms/step - loss: 0.0412 - accuracy: 0.9756\n",
            "Epoch 72/150\n",
            "2/2 [==============================] - 0s 13ms/step - loss: 0.0433 - accuracy: 0.9756\n",
            "Epoch 73/150\n",
            "2/2 [==============================] - 0s 10ms/step - loss: 0.0434 - accuracy: 0.9756\n",
            "Epoch 74/150\n",
            "2/2 [==============================] - 0s 11ms/step - loss: 0.0435 - accuracy: 0.9756\n",
            "Epoch 75/150\n",
            "2/2 [==============================] - 0s 14ms/step - loss: 0.0339 - accuracy: 0.9756\n",
            "Epoch 76/150\n",
            "2/2 [==============================] - 0s 10ms/step - loss: 0.0346 - accuracy: 0.9756\n",
            "Epoch 77/150\n",
            "2/2 [==============================] - 0s 9ms/step - loss: 0.0410 - accuracy: 0.9756\n",
            "Epoch 78/150\n",
            "2/2 [==============================] - 0s 11ms/step - loss: 0.0506 - accuracy: 0.9756\n",
            "Epoch 79/150\n",
            "2/2 [==============================] - 0s 12ms/step - loss: 0.0564 - accuracy: 0.9756\n",
            "Epoch 80/150\n",
            "2/2 [==============================] - 0s 9ms/step - loss: 0.0569 - accuracy: 0.9756\n",
            "Epoch 81/150\n",
            "2/2 [==============================] - 0s 11ms/step - loss: 0.0535 - accuracy: 0.9756\n",
            "Epoch 82/150\n",
            "2/2 [==============================] - 0s 10ms/step - loss: 0.0480 - accuracy: 0.9756\n",
            "Epoch 83/150\n",
            "2/2 [==============================] - 0s 11ms/step - loss: 0.0440 - accuracy: 0.9756\n",
            "Epoch 84/150\n",
            "2/2 [==============================] - 0s 11ms/step - loss: 0.0386 - accuracy: 0.9756\n",
            "Epoch 85/150\n",
            "2/2 [==============================] - 0s 10ms/step - loss: 0.0368 - accuracy: 0.9756\n",
            "Epoch 86/150\n",
            "2/2 [==============================] - 0s 13ms/step - loss: 0.0356 - accuracy: 0.9756\n",
            "Epoch 87/150\n",
            "2/2 [==============================] - 0s 9ms/step - loss: 0.0351 - accuracy: 0.9756\n",
            "Epoch 88/150\n",
            "2/2 [==============================] - 0s 12ms/step - loss: 0.0368 - accuracy: 0.9756\n",
            "Epoch 89/150\n",
            "2/2 [==============================] - 0s 12ms/step - loss: 0.0352 - accuracy: 0.9756\n",
            "Epoch 90/150\n",
            "2/2 [==============================] - 0s 12ms/step - loss: 0.0364 - accuracy: 0.9512\n",
            "Epoch 91/150\n",
            "2/2 [==============================] - 0s 12ms/step - loss: 0.0349 - accuracy: 0.9756\n",
            "Epoch 92/150\n",
            "2/2 [==============================] - 0s 12ms/step - loss: 0.0349 - accuracy: 0.9756\n",
            "Epoch 93/150\n",
            "2/2 [==============================] - 0s 15ms/step - loss: 0.0350 - accuracy: 0.9756\n",
            "Epoch 94/150\n",
            "2/2 [==============================] - 0s 16ms/step - loss: 0.0351 - accuracy: 0.9756\n",
            "Epoch 95/150\n",
            "2/2 [==============================] - 0s 14ms/step - loss: 0.0351 - accuracy: 0.9756\n",
            "Epoch 96/150\n",
            "2/2 [==============================] - 0s 12ms/step - loss: 0.0356 - accuracy: 0.9756\n",
            "Epoch 97/150\n",
            "2/2 [==============================] - 0s 9ms/step - loss: 0.0346 - accuracy: 0.9756\n",
            "Epoch 98/150\n",
            "2/2 [==============================] - 0s 12ms/step - loss: 0.0347 - accuracy: 0.9756\n",
            "Epoch 99/150\n",
            "2/2 [==============================] - 0s 9ms/step - loss: 0.0356 - accuracy: 0.9756\n",
            "Epoch 100/150\n",
            "2/2 [==============================] - 0s 9ms/step - loss: 0.0366 - accuracy: 0.9756\n",
            "Epoch 101/150\n",
            "2/2 [==============================] - 0s 10ms/step - loss: 0.0371 - accuracy: 0.9756\n",
            "Epoch 102/150\n",
            "2/2 [==============================] - 0s 10ms/step - loss: 0.0369 - accuracy: 0.9756\n",
            "Epoch 103/150\n",
            "2/2 [==============================] - 0s 14ms/step - loss: 0.0363 - accuracy: 0.9756\n",
            "Epoch 104/150\n",
            "2/2 [==============================] - 0s 13ms/step - loss: 0.0356 - accuracy: 0.9756\n",
            "Epoch 105/150\n",
            "2/2 [==============================] - 0s 9ms/step - loss: 0.0349 - accuracy: 0.9756\n",
            "Epoch 106/150\n",
            "2/2 [==============================] - 0s 9ms/step - loss: 0.0343 - accuracy: 0.9756\n",
            "Epoch 107/150\n",
            "2/2 [==============================] - 0s 9ms/step - loss: 0.0344 - accuracy: 0.9756\n",
            "Epoch 108/150\n",
            "2/2 [==============================] - 0s 9ms/step - loss: 0.0357 - accuracy: 0.9756\n",
            "Epoch 109/150\n",
            "2/2 [==============================] - 0s 11ms/step - loss: 0.0373 - accuracy: 0.9756\n",
            "Epoch 110/150\n",
            "2/2 [==============================] - 0s 11ms/step - loss: 0.0394 - accuracy: 0.9756\n",
            "Epoch 111/150\n",
            "2/2 [==============================] - 0s 12ms/step - loss: 0.0414 - accuracy: 0.9756\n",
            "Epoch 112/150\n",
            "2/2 [==============================] - 0s 19ms/step - loss: 0.0417 - accuracy: 0.9756\n",
            "Epoch 113/150\n",
            "2/2 [==============================] - 0s 12ms/step - loss: 0.0413 - accuracy: 0.9756\n",
            "Epoch 114/150\n",
            "2/2 [==============================] - 0s 9ms/step - loss: 0.0397 - accuracy: 0.9756\n",
            "Epoch 115/150\n",
            "2/2 [==============================] - 0s 10ms/step - loss: 0.0389 - accuracy: 0.9756\n",
            "Epoch 116/150\n",
            "2/2 [==============================] - 0s 10ms/step - loss: 0.0396 - accuracy: 0.9756\n",
            "Epoch 117/150\n",
            "2/2 [==============================] - 0s 11ms/step - loss: 0.0338 - accuracy: 0.9756\n",
            "Epoch 118/150\n",
            "2/2 [==============================] - 0s 15ms/step - loss: 0.0306 - accuracy: 1.0000\n",
            "Epoch 119/150\n",
            "2/2 [==============================] - 0s 12ms/step - loss: 0.0376 - accuracy: 0.9756\n",
            "Epoch 120/150\n",
            "2/2 [==============================] - 0s 11ms/step - loss: 0.0453 - accuracy: 0.9756\n",
            "Epoch 121/150\n",
            "2/2 [==============================] - 0s 10ms/step - loss: 0.0538 - accuracy: 0.9756\n",
            "Epoch 122/150\n",
            "2/2 [==============================] - 0s 8ms/step - loss: 0.0584 - accuracy: 0.9756\n",
            "Epoch 123/150\n",
            "2/2 [==============================] - 0s 10ms/step - loss: 0.0582 - accuracy: 0.9756\n",
            "Epoch 124/150\n",
            "2/2 [==============================] - 0s 9ms/step - loss: 0.0546 - accuracy: 0.9756\n",
            "Epoch 125/150\n",
            "2/2 [==============================] - 0s 10ms/step - loss: 0.0493 - accuracy: 0.9756\n",
            "Epoch 126/150\n",
            "2/2 [==============================] - 0s 9ms/step - loss: 0.0441 - accuracy: 0.9756\n",
            "Epoch 127/150\n",
            "2/2 [==============================] - 0s 9ms/step - loss: 0.0399 - accuracy: 0.9756\n",
            "Epoch 128/150\n",
            "2/2 [==============================] - 0s 8ms/step - loss: 0.0373 - accuracy: 0.9756\n",
            "Epoch 129/150\n",
            "2/2 [==============================] - 0s 9ms/step - loss: 0.0377 - accuracy: 0.9756\n",
            "Epoch 130/150\n",
            "2/2 [==============================] - 0s 9ms/step - loss: 0.0356 - accuracy: 0.9756\n",
            "Epoch 131/150\n",
            "2/2 [==============================] - 0s 10ms/step - loss: 0.0356 - accuracy: 0.9756\n",
            "Epoch 132/150\n",
            "2/2 [==============================] - 0s 11ms/step - loss: 0.0345 - accuracy: 0.9756\n",
            "Epoch 133/150\n",
            "2/2 [==============================] - 0s 11ms/step - loss: 0.0357 - accuracy: 0.9756\n",
            "Epoch 134/150\n",
            "2/2 [==============================] - 0s 12ms/step - loss: 0.0393 - accuracy: 0.9756\n",
            "Epoch 135/150\n",
            "2/2 [==============================] - 0s 9ms/step - loss: 0.0376 - accuracy: 0.9756\n",
            "Epoch 136/150\n",
            "2/2 [==============================] - 0s 11ms/step - loss: 0.0364 - accuracy: 0.9756\n",
            "Epoch 137/150\n",
            "2/2 [==============================] - 0s 13ms/step - loss: 0.0355 - accuracy: 0.9756\n",
            "Epoch 138/150\n",
            "2/2 [==============================] - 0s 13ms/step - loss: 0.0369 - accuracy: 0.9512\n",
            "Epoch 139/150\n",
            "2/2 [==============================] - 0s 13ms/step - loss: 0.0355 - accuracy: 0.9756\n",
            "Epoch 140/150\n",
            "2/2 [==============================] - 0s 13ms/step - loss: 0.0347 - accuracy: 0.9756\n",
            "Epoch 141/150\n",
            "2/2 [==============================] - 0s 11ms/step - loss: 0.0359 - accuracy: 0.9756\n",
            "Epoch 142/150\n",
            "2/2 [==============================] - 0s 10ms/step - loss: 0.0346 - accuracy: 0.9756\n",
            "Epoch 143/150\n",
            "2/2 [==============================] - 0s 9ms/step - loss: 0.0353 - accuracy: 0.9512\n",
            "Epoch 144/150\n",
            "2/2 [==============================] - 0s 10ms/step - loss: 0.0344 - accuracy: 0.9756\n",
            "Epoch 145/150\n",
            "2/2 [==============================] - 0s 9ms/step - loss: 0.0345 - accuracy: 0.9756\n",
            "Epoch 146/150\n",
            "2/2 [==============================] - 0s 8ms/step - loss: 0.0347 - accuracy: 0.9756\n",
            "Epoch 147/150\n",
            "2/2 [==============================] - 0s 11ms/step - loss: 0.0348 - accuracy: 0.9756\n",
            "Epoch 148/150\n",
            "2/2 [==============================] - 0s 10ms/step - loss: 0.0349 - accuracy: 0.9756\n",
            "Epoch 149/150\n",
            "2/2 [==============================] - 0s 8ms/step - loss: 0.0353 - accuracy: 0.9756\n",
            "Epoch 150/150\n",
            "2/2 [==============================] - 0s 8ms/step - loss: 0.0350 - accuracy: 0.9756\n"
          ]
        },
        {
          "output_type": "execute_result",
          "data": {
            "text/plain": [
              "<keras.src.callbacks.History at 0x7f0841d0a380>"
            ]
          },
          "metadata": {},
          "execution_count": 38
        }
      ]
    },
    {
      "cell_type": "markdown",
      "source": [
        "#user data preprocessing"
      ],
      "metadata": {
        "id": "mKDjcYMAEYz7"
      }
    },
    {
      "cell_type": "code",
      "source": [
        "def clean_text(text):\n",
        "  tokens = nltk.word_tokenize(text)\n",
        "  tokens = [lemmatizer.lemmatize(word) for word in tokens]\n",
        "  return tokens\n",
        "def bag_of_words(text,vocab):\n",
        "  tokens = clean_text(text)\n",
        "  bow = [0] * len(vocab)\n",
        "  for w in tokens :\n",
        "    for idx,word in enumerate(vocab):\n",
        "      if word == w:\n",
        "        bow[idx] = 1\n",
        "  return np.array(bow)\n",
        "def pred_class(text, vocab, labels):\n",
        "    bow = bag_of_words(text, vocab)\n",
        "    result = model.predict(np.array([bow]))[0]\n",
        "    thresh = 0.5\n",
        "    y_pred = [[indx, res] for indx, res in enumerate(result) if res > thresh]\n",
        "    y_pred.sort(key=lambda x: x[1], reverse=True)\n",
        "    return_list = []\n",
        "    for r in y_pred:\n",
        "        return_list.append(labels[r[0]])\n",
        "    return return_list\n",
        "def get_response(intents_list,intents_json):\n",
        "  if len(intents_list) == 0 :\n",
        "    result = \"sorry i dont understand\"\n",
        "  else :\n",
        "    tag=intents_list[0]\n",
        "    list_of_intents = intents_json['intents']\n",
        "    for i in list_of_intents:\n",
        "      if i['tag'] == tag:\n",
        "        result = random.choice(i[\"responses\"])\n",
        "        break\n",
        "  return result\n"
      ],
      "metadata": {
        "id": "IMwxETDz8Fjx"
      },
      "execution_count": 45,
      "outputs": []
    },
    {
      "cell_type": "code",
      "source": [
        "print(\"Press 0 if you don't want to chat with our Chatbot\")\n",
        "while True :\n",
        "  message = input('')\n",
        "  if message == '0':\n",
        "    break\n",
        "  intents = pred_class(message,words,classes)\n",
        "  result = get_response(intents,data)\n",
        "  print(result)"
      ],
      "metadata": {
        "colab": {
          "base_uri": "https://localhost:8080/",
          "height": 686
        },
        "id": "fh1ZwcagGVuu",
        "outputId": "4ff0efec-6ae6-4cb9-da57-743d0a30e514"
      },
      "execution_count": 46,
      "outputs": [
        {
          "output_type": "stream",
          "name": "stdout",
          "text": [
            "Press 0 if you don't want to chat with our Chatbot\n",
            "\n",
            "1/1 [==============================] - 0s 22ms/step\n",
            "So, everything's okay!\n",
            "yes\n",
            "1/1 [==============================] - 0s 31ms/step\n",
            "That is perfect!\n",
            "whats your name\n",
            "1/1 [==============================] - 0s 21ms/step\n",
            "That is perfect!\n",
            "ok\n",
            "1/1 [==============================] - 0s 23ms/step\n",
            "That is perfect!\n",
            "exit\n",
            "1/1 [==============================] - 0s 44ms/step\n",
            "So, everything's okay!\n",
            "nice\n",
            "1/1 [==============================] - 0s 23ms/step\n",
            "That is perfect!\n"
          ]
        },
        {
          "output_type": "error",
          "ename": "KeyboardInterrupt",
          "evalue": "Interrupted by user",
          "traceback": [
            "\u001b[0;31m---------------------------------------------------------------------------\u001b[0m",
            "\u001b[0;31mKeyboardInterrupt\u001b[0m                         Traceback (most recent call last)",
            "\u001b[0;32m<ipython-input-46-5600d5befe40>\u001b[0m in \u001b[0;36m<cell line: 2>\u001b[0;34m()\u001b[0m\n\u001b[1;32m      1\u001b[0m \u001b[0mprint\u001b[0m\u001b[0;34m(\u001b[0m\u001b[0;34m\"Press 0 if you don't want to chat with our Chatbot\"\u001b[0m\u001b[0;34m)\u001b[0m\u001b[0;34m\u001b[0m\u001b[0;34m\u001b[0m\u001b[0m\n\u001b[1;32m      2\u001b[0m \u001b[0;32mwhile\u001b[0m \u001b[0;32mTrue\u001b[0m \u001b[0;34m:\u001b[0m\u001b[0;34m\u001b[0m\u001b[0;34m\u001b[0m\u001b[0m\n\u001b[0;32m----> 3\u001b[0;31m   \u001b[0mmessage\u001b[0m \u001b[0;34m=\u001b[0m \u001b[0minput\u001b[0m\u001b[0;34m(\u001b[0m\u001b[0;34m''\u001b[0m\u001b[0;34m)\u001b[0m\u001b[0;34m\u001b[0m\u001b[0;34m\u001b[0m\u001b[0m\n\u001b[0m\u001b[1;32m      4\u001b[0m   \u001b[0;32mif\u001b[0m \u001b[0mmessage\u001b[0m \u001b[0;34m==\u001b[0m \u001b[0;34m'0'\u001b[0m\u001b[0;34m:\u001b[0m\u001b[0;34m\u001b[0m\u001b[0;34m\u001b[0m\u001b[0m\n\u001b[1;32m      5\u001b[0m     \u001b[0;32mbreak\u001b[0m\u001b[0;34m\u001b[0m\u001b[0;34m\u001b[0m\u001b[0m\n",
            "\u001b[0;32m/usr/local/lib/python3.10/dist-packages/ipykernel/kernelbase.py\u001b[0m in \u001b[0;36mraw_input\u001b[0;34m(self, prompt)\u001b[0m\n\u001b[1;32m    849\u001b[0m                 \u001b[0;34m\"raw_input was called, but this frontend does not support input requests.\"\u001b[0m\u001b[0;34m\u001b[0m\u001b[0;34m\u001b[0m\u001b[0m\n\u001b[1;32m    850\u001b[0m             )\n\u001b[0;32m--> 851\u001b[0;31m         return self._input_request(str(prompt),\n\u001b[0m\u001b[1;32m    852\u001b[0m             \u001b[0mself\u001b[0m\u001b[0;34m.\u001b[0m\u001b[0m_parent_ident\u001b[0m\u001b[0;34m,\u001b[0m\u001b[0;34m\u001b[0m\u001b[0;34m\u001b[0m\u001b[0m\n\u001b[1;32m    853\u001b[0m             \u001b[0mself\u001b[0m\u001b[0;34m.\u001b[0m\u001b[0m_parent_header\u001b[0m\u001b[0;34m,\u001b[0m\u001b[0;34m\u001b[0m\u001b[0;34m\u001b[0m\u001b[0m\n",
            "\u001b[0;32m/usr/local/lib/python3.10/dist-packages/ipykernel/kernelbase.py\u001b[0m in \u001b[0;36m_input_request\u001b[0;34m(self, prompt, ident, parent, password)\u001b[0m\n\u001b[1;32m    893\u001b[0m             \u001b[0;32mexcept\u001b[0m \u001b[0mKeyboardInterrupt\u001b[0m\u001b[0;34m:\u001b[0m\u001b[0;34m\u001b[0m\u001b[0;34m\u001b[0m\u001b[0m\n\u001b[1;32m    894\u001b[0m                 \u001b[0;31m# re-raise KeyboardInterrupt, to truncate traceback\u001b[0m\u001b[0;34m\u001b[0m\u001b[0;34m\u001b[0m\u001b[0m\n\u001b[0;32m--> 895\u001b[0;31m                 \u001b[0;32mraise\u001b[0m \u001b[0mKeyboardInterrupt\u001b[0m\u001b[0;34m(\u001b[0m\u001b[0;34m\"Interrupted by user\"\u001b[0m\u001b[0;34m)\u001b[0m \u001b[0;32mfrom\u001b[0m \u001b[0;32mNone\u001b[0m\u001b[0;34m\u001b[0m\u001b[0;34m\u001b[0m\u001b[0m\n\u001b[0m\u001b[1;32m    896\u001b[0m             \u001b[0;32mexcept\u001b[0m \u001b[0mException\u001b[0m \u001b[0;32mas\u001b[0m \u001b[0me\u001b[0m\u001b[0;34m:\u001b[0m\u001b[0;34m\u001b[0m\u001b[0;34m\u001b[0m\u001b[0m\n\u001b[1;32m    897\u001b[0m                 \u001b[0mself\u001b[0m\u001b[0;34m.\u001b[0m\u001b[0mlog\u001b[0m\u001b[0;34m.\u001b[0m\u001b[0mwarning\u001b[0m\u001b[0;34m(\u001b[0m\u001b[0;34m\"Invalid Message:\"\u001b[0m\u001b[0;34m,\u001b[0m \u001b[0mexc_info\u001b[0m\u001b[0;34m=\u001b[0m\u001b[0;32mTrue\u001b[0m\u001b[0;34m)\u001b[0m\u001b[0;34m\u001b[0m\u001b[0;34m\u001b[0m\u001b[0m\n",
            "\u001b[0;31mKeyboardInterrupt\u001b[0m: Interrupted by user"
          ]
        }
      ]
    },
    {
      "cell_type": "code",
      "source": [],
      "metadata": {
        "id": "qYCPotWmGvSm"
      },
      "execution_count": 42,
      "outputs": []
    }
  ]
}